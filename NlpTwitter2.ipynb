{
 "cells": [
  {
   "cell_type": "code",
   "execution_count": 8,
   "id": "29e1ef9f",
   "metadata": {},
   "outputs": [],
   "source": [
    "#2nd Approach with Tensorflow libary\n",
    "import pandas as pd\n",
    "from tensorflow.keras.preprocessing.sequence import pad_sequences\n",
    "from tensorflow.keras.preprocessing.text import Tokenizer"
   ]
  },
  {
   "cell_type": "code",
   "execution_count": 9,
   "id": "b0f4328c",
   "metadata": {},
   "outputs": [
    {
     "data": {
      "text/plain": [
       "(13871, 3)"
      ]
     },
     "execution_count": 9,
     "metadata": {},
     "output_type": "execute_result"
    }
   ],
   "source": [
    "data=pd.read_csv(\"Sentiment.csv\")\n",
    "#keeping only text and sentiment columns\n",
    "data = data[['text','sentiment','candidate']]\n",
    "data.shape"
   ]
  },
  {
   "cell_type": "code",
   "execution_count": 13,
   "id": "03074a12",
   "metadata": {},
   "outputs": [],
   "source": [
    "texts = data.text.values\n",
    "tokenizer = Tokenizer(num_words = 10000)\n",
    "tokenizer.fit_on_texts(texts)\n",
    "encoded_docs = tokenizer.texts_to_sequences(texts)\n",
    "padded_sequence = pad_sequences(encoded_docs, maxlen = 1000)\n",
    "sentiment_lable = data.sentiment.factorize()"
   ]
  },
  {
   "cell_type": "code",
   "execution_count": 16,
   "id": "87a7c609",
   "metadata": {},
   "outputs": [],
   "source": [
    "from tensorflow.keras.models import Sequential\n",
    "from tensorflow.keras.layers import LSTM, Dense, Dropout, SpatialDropout1D, Embedding\n",
    "embedding_vector_length = 64\n",
    "vocab_size = 1000\n",
    "model = Sequential()\n",
    "model.add(Embe)"
   ]
  },
  {
   "cell_type": "code",
   "execution_count": null,
   "id": "5ccd48af",
   "metadata": {},
   "outputs": [],
   "source": []
  }
 ],
 "metadata": {
  "kernelspec": {
   "display_name": "Python 3 (ipykernel)",
   "language": "python",
   "name": "python3"
  },
  "language_info": {
   "codemirror_mode": {
    "name": "ipython",
    "version": 3
   },
   "file_extension": ".py",
   "mimetype": "text/x-python",
   "name": "python",
   "nbconvert_exporter": "python",
   "pygments_lexer": "ipython3",
   "version": "3.9.12"
  }
 },
 "nbformat": 4,
 "nbformat_minor": 5
}
