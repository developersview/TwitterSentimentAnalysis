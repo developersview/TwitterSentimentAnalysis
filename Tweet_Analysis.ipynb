{
 "cells": [
  {
   "cell_type": "code",
   "execution_count": 1,
   "id": "9dc8a37d",
   "metadata": {},
   "outputs": [
    {
     "data": {
      "text/html": [
       "<div>\n",
       "<style scoped>\n",
       "    .dataframe tbody tr th:only-of-type {\n",
       "        vertical-align: middle;\n",
       "    }\n",
       "\n",
       "    .dataframe tbody tr th {\n",
       "        vertical-align: top;\n",
       "    }\n",
       "\n",
       "    .dataframe thead th {\n",
       "        text-align: right;\n",
       "    }\n",
       "</style>\n",
       "<table border=\"1\" class=\"dataframe\">\n",
       "  <thead>\n",
       "    <tr style=\"text-align: right;\">\n",
       "      <th></th>\n",
       "      <th>candidate</th>\n",
       "      <th>text</th>\n",
       "      <th>sentiment</th>\n",
       "    </tr>\n",
       "  </thead>\n",
       "  <tbody>\n",
       "    <tr>\n",
       "      <th>0</th>\n",
       "      <td>No candidate mentioned</td>\n",
       "      <td>RT @NancyLeeGrahn: How did everyone feel about...</td>\n",
       "      <td>Neutral</td>\n",
       "    </tr>\n",
       "    <tr>\n",
       "      <th>1</th>\n",
       "      <td>Scott Walker</td>\n",
       "      <td>RT @ScottWalker: Didn't catch the full #GOPdeb...</td>\n",
       "      <td>Positive</td>\n",
       "    </tr>\n",
       "    <tr>\n",
       "      <th>2</th>\n",
       "      <td>No candidate mentioned</td>\n",
       "      <td>RT @TJMShow: No mention of Tamir Rice and the ...</td>\n",
       "      <td>Neutral</td>\n",
       "    </tr>\n",
       "    <tr>\n",
       "      <th>3</th>\n",
       "      <td>No candidate mentioned</td>\n",
       "      <td>RT @RobGeorge: That Carly Fiorina is trending ...</td>\n",
       "      <td>Positive</td>\n",
       "    </tr>\n",
       "    <tr>\n",
       "      <th>4</th>\n",
       "      <td>Donald Trump</td>\n",
       "      <td>RT @DanScavino: #GOPDebate w/ @realDonaldTrump...</td>\n",
       "      <td>Positive</td>\n",
       "    </tr>\n",
       "    <tr>\n",
       "      <th>...</th>\n",
       "      <td>...</td>\n",
       "      <td>...</td>\n",
       "      <td>...</td>\n",
       "    </tr>\n",
       "    <tr>\n",
       "      <th>13866</th>\n",
       "      <td>No candidate mentioned</td>\n",
       "      <td>RT @cappy_yarbrough: Love to see men who will ...</td>\n",
       "      <td>Negative</td>\n",
       "    </tr>\n",
       "    <tr>\n",
       "      <th>13867</th>\n",
       "      <td>Mike Huckabee</td>\n",
       "      <td>RT @georgehenryw: Who thought Huckabee exceede...</td>\n",
       "      <td>Positive</td>\n",
       "    </tr>\n",
       "    <tr>\n",
       "      <th>13868</th>\n",
       "      <td>Ted Cruz</td>\n",
       "      <td>RT @Lrihendry: #TedCruz As President, I will a...</td>\n",
       "      <td>Positive</td>\n",
       "    </tr>\n",
       "    <tr>\n",
       "      <th>13869</th>\n",
       "      <td>Donald Trump</td>\n",
       "      <td>RT @JRehling: #GOPDebate Donald Trump says tha...</td>\n",
       "      <td>Negative</td>\n",
       "    </tr>\n",
       "    <tr>\n",
       "      <th>13870</th>\n",
       "      <td>Ted Cruz</td>\n",
       "      <td>RT @Lrihendry: #TedCruz headed into the Presid...</td>\n",
       "      <td>Positive</td>\n",
       "    </tr>\n",
       "  </tbody>\n",
       "</table>\n",
       "<p>13871 rows × 3 columns</p>\n",
       "</div>"
      ],
      "text/plain": [
       "                    candidate  \\\n",
       "0      No candidate mentioned   \n",
       "1                Scott Walker   \n",
       "2      No candidate mentioned   \n",
       "3      No candidate mentioned   \n",
       "4                Donald Trump   \n",
       "...                       ...   \n",
       "13866  No candidate mentioned   \n",
       "13867           Mike Huckabee   \n",
       "13868                Ted Cruz   \n",
       "13869            Donald Trump   \n",
       "13870                Ted Cruz   \n",
       "\n",
       "                                                    text sentiment  \n",
       "0      RT @NancyLeeGrahn: How did everyone feel about...   Neutral  \n",
       "1      RT @ScottWalker: Didn't catch the full #GOPdeb...  Positive  \n",
       "2      RT @TJMShow: No mention of Tamir Rice and the ...   Neutral  \n",
       "3      RT @RobGeorge: That Carly Fiorina is trending ...  Positive  \n",
       "4      RT @DanScavino: #GOPDebate w/ @realDonaldTrump...  Positive  \n",
       "...                                                  ...       ...  \n",
       "13866  RT @cappy_yarbrough: Love to see men who will ...  Negative  \n",
       "13867  RT @georgehenryw: Who thought Huckabee exceede...  Positive  \n",
       "13868  RT @Lrihendry: #TedCruz As President, I will a...  Positive  \n",
       "13869  RT @JRehling: #GOPDebate Donald Trump says tha...  Negative  \n",
       "13870  RT @Lrihendry: #TedCruz headed into the Presid...  Positive  \n",
       "\n",
       "[13871 rows x 3 columns]"
      ]
     },
     "execution_count": 1,
     "metadata": {},
     "output_type": "execute_result"
    }
   ],
   "source": [
    "import spacy\n",
    "import scattertext as st\n",
    "import pandas as pd\n",
    "\n",
    "#filtering the data\n",
    "data = pd.read_csv('Sentiment.csv')\n",
    "data = data[['candidate','text','sentiment']]\n",
    "data"
   ]
  },
  {
   "cell_type": "code",
   "execution_count": 2,
   "id": "22da7b34",
   "metadata": {},
   "outputs": [],
   "source": [
    "#creating corpus object\n",
    "nlp = spacy.load('en_core_web_sm')\n",
    "corpus = st.CorpusFromPandas(data,\n",
    "                             category_col='sentiment',\n",
    "                             text_col='text',\n",
    "                             nlp=nlp).build()"
   ]
  },
  {
   "cell_type": "code",
   "execution_count": 3,
   "id": "0b28ef61",
   "metadata": {},
   "outputs": [],
   "source": [
    "#creating html file\n",
    "html = st.produce_scattertext_explorer(\n",
    "       corpus,\n",
    "       category = \"Positive\",\n",
    "       category_name = \"Positive Tweets\",\n",
    "       not_category_name = \"Negative Tweets\",\n",
    "       width_in_pixels = 1000,\n",
    "       metadata = data[\"candidate\"]\n",
    "    )"
   ]
  },
  {
   "cell_type": "code",
   "execution_count": 4,
   "id": "427a341e",
   "metadata": {},
   "outputs": [
    {
     "data": {
      "text/plain": [
       "3380958"
      ]
     },
     "execution_count": 4,
     "metadata": {},
     "output_type": "execute_result"
    }
   ],
   "source": [
    "open('Tweet_Analysis.html','wb').write(html.encode('utf-8'))"
   ]
  },
  {
   "cell_type": "code",
   "execution_count": null,
   "id": "ade5cea7",
   "metadata": {},
   "outputs": [],
   "source": []
  }
 ],
 "metadata": {
  "kernelspec": {
   "display_name": "Python 3 (ipykernel)",
   "language": "python",
   "name": "python3"
  },
  "language_info": {
   "codemirror_mode": {
    "name": "ipython",
    "version": 3
   },
   "file_extension": ".py",
   "mimetype": "text/x-python",
   "name": "python",
   "nbconvert_exporter": "python",
   "pygments_lexer": "ipython3",
   "version": "3.9.12"
  }
 },
 "nbformat": 4,
 "nbformat_minor": 5
}
