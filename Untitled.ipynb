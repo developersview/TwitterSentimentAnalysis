{
 "cells": [
  {
   "cell_type": "code",
   "execution_count": 21,
   "id": "41794882",
   "metadata": {},
   "outputs": [],
   "source": [
    "import spacy\n",
    "import scattertext as st\n",
    "\n",
    "df = st.SampleCorpora.ConventionData2012.get_data().assign(\n",
    "    parse=lambda df: df.text.apply(st.whitespace_nlp_with_sentences)\n",
    ")\n",
    "corpus = st.CorpusFromParsedDocuments(\n",
    "    df, category_col='party', parsed_col='parse'\n",
    ").build().get_unigram_corpus().compact(st.AssociationCompactor(2000))"
   ]
  },
  {
   "cell_type": "code",
   "execution_count": 26,
   "id": "67a3093f",
   "metadata": {},
   "outputs": [],
   "source": [
    "html = st.produce_scattertext_explorer(\n",
    "    corpus,\n",
    "    category='democrat', category_name='Democratic', not_category_name='Republican',\n",
    "    minimum_term_frequency=0, pmi_threshold_coefficient=0,\n",
    "    width_in_pixels=1000, metadata=corpus.get_df()['speaker'],\n",
    "    transform=st.Scalers.dense_rank\n",
    ")"
   ]
  },
  {
   "cell_type": "code",
   "execution_count": 38,
   "id": "b59ba2c4",
   "metadata": {},
   "outputs": [
    {
     "data": {
      "text/plain": [
       "1655723"
      ]
     },
     "execution_count": 38,
     "metadata": {},
     "output_type": "execute_result"
    }
   ],
   "source": [
    "html_file_name = \"demo.html\"\n",
    "open(html_file_name, 'wb').write(html.encode('utf-8'))"
   ]
  },
  {
   "cell_type": "code",
   "execution_count": null,
   "id": "9d700820",
   "metadata": {},
   "outputs": [],
   "source": []
  }
 ],
 "metadata": {
  "kernelspec": {
   "display_name": "Python 3 (ipykernel)",
   "language": "python",
   "name": "python3"
  },
  "language_info": {
   "codemirror_mode": {
    "name": "ipython",
    "version": 3
   },
   "file_extension": ".py",
   "mimetype": "text/x-python",
   "name": "python",
   "nbconvert_exporter": "python",
   "pygments_lexer": "ipython3",
   "version": "3.9.12"
  }
 },
 "nbformat": 4,
 "nbformat_minor": 5
}
